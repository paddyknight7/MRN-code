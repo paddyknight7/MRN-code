{
 "cells": [
  {
   "cell_type": "markdown",
   "id": "ee3ef26c-f07e-4ef3-9568-c071f9ab9288",
   "metadata": {},
   "source": [
    "# 1D Steady State Heat Conduction"
   ]
  },
  {
   "cell_type": "markdown",
   "id": "f691b6e5-01a2-4362-8126-cbf1ab2e75a9",
   "metadata": {},
   "source": [
    "The differential equation for 1D strady state heat conduction is \n",
    "$q = -kA \\frac{dT}{dx}$\n",
    "where $q$ is the heat flux measured in $\\frac{W}{m^{2}}$, $k$ is the thermal conductivity of the material, $T$ is the temperature and $x$ is the position along the axis."
   ]
  },
  {
   "cell_type": "code",
   "execution_count": 1,
   "id": "277cee4b-71ff-42d2-a0e4-1a97ef329c39",
   "metadata": {},
   "outputs": [
    {
     "ename": "SyntaxError",
     "evalue": "invalid syntax (2696269950.py, line 19)",
     "output_type": "error",
     "traceback": [
      "\u001b[0;36m  File \u001b[0;32m\"/tmp/ipykernel_418531/2696269950.py\"\u001b[0;36m, line \u001b[0;32m19\u001b[0m\n\u001b[0;31m    bvp(func(x,y), (y(0)=0, y(l)=100))\u001b[0m\n\u001b[0m                        ^\u001b[0m\n\u001b[0;31mSyntaxError\u001b[0m\u001b[0;31m:\u001b[0m invalid syntax\n"
     ]
    }
   ],
   "source": [
    "import numpy as np\n",
    "from scipy.integrate import solve_bvp as bvp\n",
    "# y' = -Q/kA\n",
    "k = 0.1 # Thermal conductivity []\n",
    "A = 1 # Area [m^2]\n",
    "\n",
    "t = 0.1\n",
    "dt = 0.001\n",
    "\n",
    "x = np.arange(0,t,dt)\n",
    "\n",
    "### Boundary Conditions\n",
    "#y(0) = 0 # Temperature (left) [C]\n",
    "#y(t) = 100 # Temperature (right) [C]\n",
    "\n",
    "def func(x, y):\n",
    "    return (-Q*x/k*A)\n",
    "\n",
    "bvp(func(x,y), (y(0)=0, y(l)=100))\n",
    "\n"
   ]
  },
  {
   "cell_type": "code",
   "execution_count": 11,
   "id": "1dd0d9b6-0df7-453a-83dc-e98225673ef1",
   "metadata": {},
   "outputs": [],
   "source": [
    "import numpy as np\n",
    "from scipy.integrate import solve_bvp as bvp\n",
    "import matplotlib.pyplot as plt\n",
    "\n",
    "def fun(x, y):\n",
    "    return np.vstack((y[1], -np.exp(y[0])))\n",
    "\n",
    "def bc(ya, yb):\n",
    "    return np.array([ya[0], yb[0]])\n",
    "\n",
    "x = np.linspace(0,1,5)\n",
    "\n",
    "y_a = np.zeros((2, x.size))\n",
    "y_b = np.zeros((2, x.size))\n",
    "               \n",
    "y_b[0] = 3\n",
    "\n",
    "res_a = bvp(fun, bc, x, y_a)\n",
    "res_b = bvp(fun, bc, x, y_b)"
   ]
  },
  {
   "cell_type": "code",
   "execution_count": 20,
   "id": "754c2a0a-16a1-4412-9946-35cf1450dfa8",
   "metadata": {},
   "outputs": [
    {
     "data": {
      "text/plain": [
       "[<matplotlib.lines.Line2D at 0x7fc2981fc1c0>]"
      ]
     },
     "execution_count": 20,
     "metadata": {},
     "output_type": "execute_result"
    },
    {
     "data": {
      "image/png": "[encoded data removed]",
      "text/plain": [
       "<Figure size 432x288 with 1 Axes>"
      ]
     },
     "metadata": {
      "needs_background": "light"
     },
     "output_type": "display_data"
    }
   ],
   "source": [
    "plt.plot(res_a.sol(x)[1], res_a.sol(x)[0])"
   ]
  },
  {
   "cell_type": "code",
   "execution_count": 29,
   "id": "5b0cd139-c3e9-4cb7-a6b4-3c93857de8f0",
   "metadata": {},
   "outputs": [
    {
     "ename": "ValueError",
     "evalue": "`y` must be 2 dimensional.",
     "output_type": "error",
     "traceback": [
      "\u001b[0;31m---------------------------------------------------------------------------\u001b[0m",
      "\u001b[0;31mValueError\u001b[0m                                Traceback (most recent call last)",
      "\u001b[0;32m<ipython-input-29-7e672d305501>\u001b[0m in \u001b[0;36m<module>\u001b[0;34m\u001b[0m\n\u001b[1;32m     16\u001b[0m \u001b[0mt_a\u001b[0m \u001b[0;34m=\u001b[0m \u001b[0mnp\u001b[0m\u001b[0;34m.\u001b[0m\u001b[0mzeros\u001b[0m\u001b[0;34m(\u001b[0m\u001b[0;34m(\u001b[0m\u001b[0mx\u001b[0m\u001b[0;34m.\u001b[0m\u001b[0msize\u001b[0m\u001b[0;34m)\u001b[0m\u001b[0;34m)\u001b[0m\u001b[0;34m\u001b[0m\u001b[0;34m\u001b[0m\u001b[0m\n\u001b[1;32m     17\u001b[0m \u001b[0;34m\u001b[0m\u001b[0m\n\u001b[0;32m---> 18\u001b[0;31m \u001b[0mres\u001b[0m \u001b[0;34m=\u001b[0m \u001b[0mbvp\u001b[0m\u001b[0;34m(\u001b[0m\u001b[0mfun\u001b[0m\u001b[0;34m,\u001b[0m \u001b[0mbc\u001b[0m \u001b[0;34m,\u001b[0m \u001b[0mx\u001b[0m\u001b[0;34m,\u001b[0m \u001b[0mt_a\u001b[0m\u001b[0;34m)\u001b[0m\u001b[0;34m\u001b[0m\u001b[0;34m\u001b[0m\u001b[0m\n\u001b[0m",
      "\u001b[0;32m~/anaconda3/lib/python3.8/site-packages/scipy/integrate/_bvp.py\u001b[0m in \u001b[0;36msolve_bvp\u001b[0;34m(fun, bc, x, y, p, S, fun_jac, bc_jac, tol, max_nodes, verbose, bc_tol)\u001b[0m\n\u001b[1;32m   1012\u001b[0m \u001b[0;34m\u001b[0m\u001b[0m\n\u001b[1;32m   1013\u001b[0m     \u001b[0;32mif\u001b[0m \u001b[0my\u001b[0m\u001b[0;34m.\u001b[0m\u001b[0mndim\u001b[0m \u001b[0;34m!=\u001b[0m \u001b[0;36m2\u001b[0m\u001b[0;34m:\u001b[0m\u001b[0;34m\u001b[0m\u001b[0;34m\u001b[0m\u001b[0m\n\u001b[0;32m-> 1014\u001b[0;31m         \u001b[0;32mraise\u001b[0m \u001b[0mValueError\u001b[0m\u001b[0;34m(\u001b[0m\u001b[0;34m\"`y` must be 2 dimensional.\"\u001b[0m\u001b[0;34m)\u001b[0m\u001b[0;34m\u001b[0m\u001b[0;34m\u001b[0m\u001b[0m\n\u001b[0m\u001b[1;32m   1015\u001b[0m     \u001b[0;32mif\u001b[0m \u001b[0my\u001b[0m\u001b[0;34m.\u001b[0m\u001b[0mshape\u001b[0m\u001b[0;34m[\u001b[0m\u001b[0;36m1\u001b[0m\u001b[0;34m]\u001b[0m \u001b[0;34m!=\u001b[0m \u001b[0mx\u001b[0m\u001b[0;34m.\u001b[0m\u001b[0mshape\u001b[0m\u001b[0;34m[\u001b[0m\u001b[0;36m0\u001b[0m\u001b[0;34m]\u001b[0m\u001b[0;34m:\u001b[0m\u001b[0;34m\u001b[0m\u001b[0;34m\u001b[0m\u001b[0m\n\u001b[1;32m   1016\u001b[0m         raise ValueError(\"`y` is expected to have {} columns, but actually \"\n",
      "\u001b[0;31mValueError\u001b[0m: `y` must be 2 dimensional."
     ]
    }
   ],
   "source": [
    "import numpy as np\n",
    "from scipy.integrate import solve_bvp as bvp\n",
    "import matplotlib.pyplot as plt\n",
    "\n",
    "Ti = 100\n",
    "Tm = 20\n",
    "\n",
    "def fun(T,t):\n",
    "    return T*(T-Tm)\n",
    "\n",
    "def bc(Ti):\n",
    "    return Ti\n",
    "\n",
    "x = np.linspace(0,1,5)\n",
    "\n",
    "t_a = np.zeros((x.size))\n",
    "\n",
    "res = bvp(fun, bc , x, t_a)"
   ]
  },
  {
   "cell_type": "code",
   "execution_count": null,
   "id": "f741ddde-8cbb-4240-ad6e-a128b8206fdc",
   "metadata": {},
   "outputs": [],
   "source": []
  }
 ],
 "metadata": {
  "kernelspec": {
   "display_name": "Python 3 (ipykernel)",
   "language": "python",
   "name": "python3"
  },
  "language_info": {
   "codemirror_mode": {
    "name": "ipython",
    "version": 3
   },
   "file_extension": ".py",
   "mimetype": "text/x-python",
   "name": "python",
   "nbconvert_exporter": "python",
   "pygments_lexer": "ipython3",
   "version": "3.9.7"
  }
 },
 "nbformat": 4,
 "nbformat_minor": 5
}
