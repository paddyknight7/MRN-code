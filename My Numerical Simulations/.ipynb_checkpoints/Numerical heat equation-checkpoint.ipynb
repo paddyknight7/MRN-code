{
 "cells": [
  {
   "cell_type": "markdown",
   "id": "a0c8b3da-7af3-47d2-9133-cbed589965df",
   "metadata": {
    "tags": []
   },
   "source": [
    "# Analytical Heat Eqaution\n",
    "\n",
    "Begin by exploring the 1D heat equation\n",
    "\n",
    "$u_{t}=k u_{xx}$ for $x \\in (0,1)$ for $t>0$\n",
    "\n",
    "$u(x,0)=f(x)$\n",
    "$u(0,t)=$\n",
    "$u(l,t)=$\n",
    "\n",
    "$\\alpha = \\frac{k}{\\rho C_{p}}$\n",
    "Assumptions:\n",
    "- No heat generation\n",
    "- Uniform material properties\n",
    "\n"
   ]
  },
  {
   "cell_type": "markdown",
   "id": "3e0ee961-7ccb-4791-90a3-86893e0bc3be",
   "metadata": {},
   "source": [
    "$T(x,t) = T_{s}+(T_{i}-T_{s})erf(\\frac{x}{2 \\sqrt{\\alpha t}})$"
   ]
  },
  {
   "cell_type": "code",
   "execution_count": 1,
   "id": "800ec968-36a9-4715-80fc-d4c8298b775b",
   "metadata": {},
   "outputs": [],
   "source": [
    "import numpy as np\n",
    "import matplotlib.pyplot as plt\n",
    "\n",
    "from pydmd import DMD\n",
    "import pysindy as ps\n",
    "\n",
    "from PDE_FIND import *"
   ]
  },
  {
   "cell_type": "markdown",
   "id": "ee527b5b-e0aa-4da2-a28c-11df26254712",
   "metadata": {},
   "source": [
    "Transient cooling by Newton's law of cooling"
   ]
  },
  {
   "cell_type": "code",
   "execution_count": 2,
   "id": "25445116-77ff-4f8a-8f33-64f391300540",
   "metadata": {},
   "outputs": [],
   "source": [
    "# Define equation for temp over time\n",
    "def T(input_vars, t):\n",
    "    As = 4 * np.pi * input_vars[2]**2    # Surface area\n",
    "    V = (4/3) * np.pi * input_vars[2]**3 # Volume\n",
    "    b = (input_vars[3] * As)/(input_vars[4] * V * input_vars[5])\n",
    "    return(input_vars[1] + (input_vars[0] - input_vars[1]) * np.exp(-b*t))"
   ]
  },
  {
   "cell_type": "code",
   "execution_count": 26,
   "id": "fe6976c8-46c7-425a-be13-1c31738ab419",
   "metadata": {},
   "outputs": [
    {
     "name": "stdout",
     "output_type": "stream",
     "text": [
      "[2.0e+01 1.0e+02 5.0e-04 2.1e+02 8.5e+03 3.2e+02]\n"
     ]
    }
   ],
   "source": [
    "# Using lumped mass approximation\n",
    "\n",
    "T_inf = 100   # Surrounding temperature\n",
    "T_i = 0       # Initial temperature\n",
    "r =  1/2000   # Radius of sphere\n",
    "h = 210       # Convection heat transfer coefficient\n",
    "rho = 8500    # Material density\n",
    "Cp = 320      # Specific heat\n",
    "\n",
    "input_vars = np.array([T_i, T_inf, r, h, rho, Cp])\n",
    "\n",
    "# Alternative initial conditions\n",
    "T_i0 = 20\n",
    "\n",
    "# Setup experiment times\n",
    "dt = 0.2      # Timestep\n",
    "\n",
    "t_tr = 10     # Experiment train time\n",
    "t_te= 20      # Experiment test time\n",
    "\n",
    "t_train = np.arange(0,t_tr, dt) # Time array\n",
    "t_test = np.arange(0,t_te, dt)  # Time array\n",
    "\n",
    "input_vars0_train = input_vars.copy()\n",
    "Temps0_train = T(input_vars0_train, t_train)\n",
    "\n",
    "input_vars0_test = input_vars0_train.copy()\n",
    "input_vars0_test[0] = T_i0# Change initial conditions\n",
    "Temps0_test = T(input_vars0_test, t_test)\n",
    "print(input_vars0_test)\n",
    "\n",
    "\n",
    "input_vars1_test = input_vars0_train.copy()\n",
    "input_vars1_test[1] = 80 # Change initial conditions\n",
    "Temps1_test = T(input_vars1_test, t_test)\n",
    "\n",
    "input_vars2_test = input_vars0_train.copy()\n",
    "input_vars2_test[0] = -20 # Change initial conditions\n",
    "Temps2_test = T(input_vars2_test, t_test)\n",
    "#plt.figure(1)\n",
    "#plt.plot(t_test, Temps_test, color=\"k\", linestyle=\"-\")\n",
    "#plt.plot(t_train, Temps_train, color=\"r\", linestyle=\"-\")"
   ]
  },
  {
   "cell_type": "code",
   "execution_count": 19,
   "id": "a425db7f-20fc-409e-a649-a064a9c97855",
   "metadata": {},
   "outputs": [
    {
     "name": "stdout",
     "output_type": "stream",
     "text": [
      "T' = 46.375 1 + -0.464 T\n"
     ]
    }
   ],
   "source": [
    "model = ps.SINDy(feature_names=[\"T\"])\n",
    "model.fit(Temps0_train, t=dt)\n",
    "model.print()"
   ]
  },
  {
   "cell_type": "code",
   "execution_count": 20,
   "id": "c67d6ecd-cf51-45ab-a5d5-1c96d0585a30",
   "metadata": {},
   "outputs": [
    {
     "name": "stdout",
     "output_type": "stream",
     "text": [
      "Model score: 0.9999995106429014\n",
      "Model score: -0.3485892462549318\n",
      "Model score: 0.9999995339264537\n"
     ]
    }
   ],
   "source": [
    "print(f\"Model score: {model.score(Temps0_test, t=dt)}\")\n",
    "print(f\"Model score: {model.score(Temps1_test, t=dt)}\")\n",
    "print(f\"Model score: {model.score(Temps2_test, t=dt)}\")"
   ]
  },
  {
   "cell_type": "code",
   "execution_count": 10,
   "id": "2b35dd4e-27ef-44bc-97f0-ea84d708b35f",
   "metadata": {},
   "outputs": [
    {
     "data": {
      "text/plain": [
       "<matplotlib.legend.Legend at 0x7f85ca09e9d0>"
      ]
     },
     "execution_count": 10,
     "metadata": {},
     "output_type": "execute_result"
    },
    {
     "data": {
      "image/png": "[encoded data removed]",
      "text/plain": [
       "<Figure size 432x288 with 1 Axes>"
      ]
     },
     "metadata": {
      "needs_background": "light"
     },
     "output_type": "display_data"
    }
   ],
   "source": [
    "T_dot_test_predicited = model.predict(Temps0_test)\n",
    "T_dot_test_computed = model.differentiate(Temps0_test, t=dt)\n",
    "\n",
    "plt.plot(t_test, T_dot_test_computed, color=\"k\", label=\"numerical derivative\")\n",
    "plt.plot(t_test, T_dot_test_predicited, color=\"r\", linestyle= \"-.\", label=\"model prediction\")\n",
    "plt.legend()"
   ]
  },
  {
   "cell_type": "code",
   "execution_count": 28,
   "id": "32ede9c1-2e71-4a56-ae36-616ee3e3b8ef",
   "metadata": {},
   "outputs": [
    {
     "data": {
      "text/plain": [
       "[<matplotlib.lines.Line2D at 0x7f85c9f72640>]"
      ]
     },
     "execution_count": 28,
     "metadata": {},
     "output_type": "execute_result"
    },
    {
     "data": {
      "image/png": "[encoded data removed]",
      "text/plain": [
       "<Figure size 432x288 with 1 Axes>"
      ]
     },
     "metadata": {
      "needs_background": "light"
     },
     "output_type": "display_data"
    }
   ],
   "source": [
    "T0_test_sim = model.simulate(T_i0, t_test)\n",
    "\n",
    "plt.plot(t_test, Temps0_test, color=\"k\", label=\"true simulation\")\n",
    "plt.plot(t_test, T0_test_sim, color=\"r\", linestyle=\"-.\", label=\"model prediction\")"
   ]
  },
  {
   "cell_type": "code",
   "execution_count": null,
   "id": "56072b63-c536-4b47-a137-b196fb0db070",
   "metadata": {},
   "outputs": [],
   "source": []
  },
  {
   "cell_type": "code",
   "execution_count": null,
   "id": "64fe954e-3345-44c9-860f-7e079b14319d",
   "metadata": {},
   "outputs": [],
   "source": []
  },
  {
   "cell_type": "code",
   "execution_count": 3,
   "id": "bd3f6134-00b6-4fde-8079-7d4a54bd96b1",
   "metadata": {},
   "outputs": [
    {
     "data": {
      "text/plain": [
       "[<matplotlib.lines.Line2D at 0x7fc3293394f0>]"
      ]
     },
     "execution_count": 3,
     "metadata": {},
     "output_type": "execute_result"
    },
    {
     "data": {
      "application/vnd.jupyter.widget-view+json": {
       "model_id": "4e3db29dfbda4a4aa0403a6aee80d69b",
       "version_major": 2,
       "version_minor": 0
      },
      "text/html": [
       "\n",
       "            <div style=\"display: inline-block;\">\n",
       "                <div class=\"jupyter-widgets widget-label\" style=\"text-align: center;\">\n",
       "                    Figure\n",
       "                </div>\n",
       "                <img src='data:image/png;base64,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' width=640.0/>\n",
       "            </div>\n",
       "        "
      ],
      "text/plain": [
       "Canvas(toolbar=Toolbar(toolitems=[('Home', 'Reset original view', 'home', 'home'), ('Back', 'Back to previous …"
      ]
     },
     "metadata": {},
     "output_type": "display_data"
    }
   ],
   "source": [
    "%matplotlib widget\n",
    "\n",
    "import numpy as np\n",
    "import matplotlib.pyplot as plt\n",
    "from matplotlib.animation import FuncAnimation\n",
    "\n",
    "from IPython.display import HTML\n",
    "\n",
    "fig, ax = plt.subplots()\n",
    "\n",
    "\n",
    "nx = 41\n",
    "dx = 2 / (nx - 1)\n",
    "nt = 20    #the number of timesteps we want to calculate\n",
    "t_stop = 0.5\n",
    "nu = 0.3   #the value of viscosity/thermal conductivity\n",
    "sigma = .2 #sigma is a parameter, we'll learn more about it later\n",
    "dt = sigma * dx**2 / nu #dt is defined using sigma ... more later!\n",
    "\n",
    "t = np.arange(0, t_stop, dt)\n",
    "\n",
    "def q(T, t):\n",
    "    dTdt = np.zeros_like(T)\n",
    "    dTdt[0] = T[1]\n",
    "    \n",
    "    delta = T[2] - T[0]\n",
    "    \n",
    "\n",
    "u = np.ones(nx)      #a numpy array with nx elements all equal to 1.\n",
    "u[int(.5 / dx):int(1 / dx + 1)] = 2  #setting u = 2 between 0.5 and 1 as per our I.C.s\n",
    "\n",
    "un = np.ones(nx) #our placeholder array, un, to advance the solution in time\n",
    "\n",
    "for n in range(nt):  #iterate through time\n",
    "    un = u.copy() ##copy the existing values of u into un\n",
    "    for i in range(1, nx - 1):\n",
    "        u[i] = un[i] + nu * dt / dx**2 * (un[i+1] - 2 * un[i] + un[i-1])\n",
    "        #plt.plot(np.linspace(0, 2, nx), u);\n",
    "        \n",
    "plt.plot(u)"
   ]
  },
  {
   "cell_type": "code",
   "execution_count": null,
   "id": "24fdd481-90ff-4fc9-b936-a3ed02498d6d",
   "metadata": {},
   "outputs": [],
   "source": [
    "plt.plot()"
   ]
  }
 ],
 "metadata": {
  "kernelspec": {
   "display_name": "Python 3 (ipykernel)",
   "language": "python",
   "name": "python3"
  },
  "language_info": {
   "codemirror_mode": {
    "name": "ipython",
    "version": 3
   },
   "file_extension": ".py",
   "mimetype": "text/x-python",
   "name": "python",
   "nbconvert_exporter": "python",
   "pygments_lexer": "ipython3",
   "version": "3.9.7"
  }
 },
 "nbformat": 4,
 "nbformat_minor": 5
}
