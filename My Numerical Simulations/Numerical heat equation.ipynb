{
 "cells": [
  {
   "cell_type": "markdown",
   "id": "a0c8b3da-7af3-47d2-9133-cbed589965df",
   "metadata": {
    "tags": []
   },
   "source": [
    "# Analytical Heat Eqaution\n",
    "\n",
    "Begin by exploring the 1D heat equation\n",
    "\n",
    "$u_{t}=k u_{xx}$ for $x \\in (0,1)$ for $t>0$\n",
    "\n",
    "$u(x,0)=f(x)$  \n",
    "$u(0,t)= T_0$  \n",
    "$u(l,t)= T_l$\n",
    "\n",
    "$\\alpha = \\frac{k}{\\rho C_{p}}$\n",
    "Assumptions:\n",
    "- No heat generation\n",
    "- Uniform material properties\n",
    "\n"
   ]
  },
  {
   "cell_type": "markdown",
   "id": "3e0ee961-7ccb-4791-90a3-86893e0bc3be",
   "metadata": {},
   "source": [
    "$T(x,t) = T_{s}+(T_{i}-T_{s})erf(\\frac{x}{2 \\sqrt{\\alpha t}})$"
   ]
  },
  {
   "cell_type": "code",
   "execution_count": 1,
   "id": "800ec968-36a9-4715-80fc-d4c8298b775b",
   "metadata": {},
   "outputs": [],
   "source": [
    "import numpy as np\n",
    "import matplotlib.pyplot as plt\n",
    "\n",
    "from pydmd import DMD\n",
    "import pysindy as ps\n",
    "\n",
    "from sklearn.linear_model import Lasso as skLasso\n",
    "from sklearn.model_selection import GridSearchCV, TimeSeriesSplit\n",
    "\n",
    "from PDE_FIND import *"
   ]
  },
  {
   "cell_type": "markdown",
   "id": "ee527b5b-e0aa-4da2-a28c-11df26254712",
   "metadata": {},
   "source": [
    "Transient cooling by Newton's law of cooling"
   ]
  },
  {
   "cell_type": "code",
   "execution_count": 3,
   "id": "25445116-77ff-4f8a-8f33-64f391300540",
   "metadata": {},
   "outputs": [],
   "source": [
    "# Define equation for temp over time\n",
    "def T(input_vars, t):\n",
    "    As = 4 * np.pi * input_vars[2]**2    # Surface area\n",
    "    V = (4/3) * np.pi * input_vars[2]**3 # Volume\n",
    "    b = (input_vars[3] * As)/(input_vars[4] * V * input_vars[5])\n",
    "    return(input_vars[1] + (input_vars[0] - input_vars[1]) * np.exp(-b*t))"
   ]
  },
  {
   "cell_type": "code",
   "execution_count": null,
   "id": "55a53262-63a6-4143-ae47-4aeab4c30bb7",
   "metadata": {},
   "outputs": [],
   "source": [
    "# input_vars = {\"T_i\": T_i,\n",
    "#               \"T_inf\":T_inf,\n",
    "#               \"r\":r,\n",
    "#               \"h\":h,\n",
    "#               \"rho\":rho,\n",
    "#               \"Cp\":Cp}\n",
    "\n",
    "# np.array(list(input_vars.values()))\n",
    "\n",
    "# Define equation for temp over time\n",
    "# def T(T_i, T_inf, r, h, rho, cp, t):\n",
    "#     As = 4 * np.pi * r**2    # Surface area\n",
    "#     V = (4/3) * np.pi * r**3 # Volume\n",
    "#     b = (h * As)/(rho * V * Cp)\n",
    "#     return(T_inf + (T_i - T_inf) * np.exp(-b*t))"
   ]
  },
  {
   "cell_type": "markdown",
   "id": "c6252da2-34fb-4f7b-ab1e-427fffb2328f",
   "metadata": {},
   "source": [
    "# Using lumped mass approximation\n",
    "\n",
    "T_inf = 100   # Surrounding temperature\n",
    "T_i = 0       # Initial temperature\n",
    "r =  1/2000   # Radius of sphere\n",
    "h = 210       # Convection heat transfer coefficient\n",
    "rho = 8500    # Material density\n",
    "Cp = 320      # Specific heat\n",
    "\n",
    "rng = np.random.default_rng(42)  # Seed for reproducibility\n",
    "\n",
    "input_vars = np.array([T_i, T_inf, r, h, rho, Cp])\n",
    "\n",
    "# Setup experiment times\n",
    "dt = 0.2      # Timestep\n",
    "\n",
    "t_tr = 10     # Experiment train time\n",
    "t_te= 20      # Experiment test time\n",
    "\n",
    "t_train = np.arange(0,t_tr, dt) # Time array\n",
    "t_test = np.arange(0,t_te, dt)  # Time array\n",
    "\n",
    "# # Alternative initial conditions\n",
    "# n_init_temps = 10\n",
    "# Ti_rand = rng.uniform(low=80, high=120, size=n_init_temps)\n",
    "\n",
    "# T_i_input_vars = input_vars.copy()\n",
    "# T_i_models = []\n",
    "# for i, Ti in enumerate(Ti_rand):\n",
    "#     T_i_input_vars[0] = Ti\n",
    "\n",
    "x0_train = input_vars\n",
    "x_train = T(x0_train, t_train)\n",
    "\n",
    "x0_test = input_vars.copy()\n",
    "x0_test[0] = rng.uniform(low=80, high=120)\n",
    "x_test = T(x0_test, t_test)\n",
    "\n",
    "# input_vars0_train = input_vars.copy()\n",
    "# #Temps0_train = T_train(input_vars0_train, t_train)\n",
    "# input_vars0_test = input_vars0_train.copy()\n",
    "# input_vars0_test[0] = T_i0# Change initial conditions\n",
    "# Temps0_test = T(input_vars0_test, t_test)\n",
    "# print(input_vars0_test)\n",
    "\n",
    "\n",
    "# input_vars1_test = input_vars0_train.copy()\n",
    "# input_vars1_test[1] = 80 # Change initial conditions\n",
    "# Temps1_test = T(input_vars1_test, t_test)\n",
    "\n",
    "# input_vars2_test = input_vars0_train.copy()\n",
    "# input_vars2_test[0] = -20 # Change initial conditions\n",
    "# Temps2_test = T(input_vars2_test, t_test)\n",
    "#plt.figure(1)\n",
    "#plt.plot(t_test, Temps_test, color=\"k\", linestyle=\"-\")\n",
    "#plt.plot(t_train, Temps_train, color=\"r\", linestyle=\"-\")"
   ]
  },
  {
   "cell_type": "code",
   "execution_count": 4,
   "id": "2c43fade-8a52-490f-81fb-7a37dab961d0",
   "metadata": {},
   "outputs": [],
   "source": [
    "# Using lumped mass approximation\n",
    "\n",
    "T_inf = 100   # Surrounding temperature\n",
    "T_i = 0       # Initial temperature\n",
    "r =  1/2000   # Radius of sphere\n",
    "h = 210       # Convection heat transfer coefficient\n",
    "rho = 8500    # Material density\n",
    "Cp = 320      # Specific heat\n",
    "\n",
    "rng = np.random.default_rng(42)  # Seed for reproducibility\n",
    "\n",
    "input_vars = np.array([T_i, T_inf, r, h, rho, Cp])\n",
    "\n",
    "# Setup experiment times\n",
    "dt = 0.2      # Timestep\n",
    "\n",
    "t_tr = 10     # Experiment train time\n",
    "t_te= 20      # Experiment test time\n",
    "\n",
    "t_train = np.arange(0,t_tr, dt) # Time array\n",
    "t_test = np.arange(0,t_te, dt)  # Time array\n",
    "\n",
    "x0_train = input_vars\n",
    "x_train = T(x0_train, t_train)\n",
    "\n",
    "x0_test = input_vars.copy()\n",
    "x0_test[0] = rng.uniform(low=80, high=120)\n",
    "x_test = T(x0_test, t_test)"
   ]
  },
  {
   "cell_type": "code",
   "execution_count": 27,
   "id": "78bba086-e0bc-42e2-b520-fc75ed6aa348",
   "metadata": {},
   "outputs": [],
   "source": [
    "poly_lib = ps.PolynomialLibrary() #degree=2\n",
    "fourier_lib = ps.FourierLibrary() #n_frequencies=3\n",
    "\n",
    "custom_func = [\n",
    "    lambda x : np.exp(x),\n",
    "    lambda x : x,\n",
    "    lambda x : x**2\n",
    "]\n",
    "custom_func_names = [\n",
    "    lambda x : f\"exp({x})\",\n",
    "    lambda x : x,\n",
    "    lambda x : f\"{x}**2\"\n",
    "]\n",
    "\n",
    "custom_lib = ps.CustomLibrary(library_functions=custom_func, function_names=custom_func_names)"
   ]
  },
  {
   "cell_type": "code",
   "execution_count": 30,
   "id": "a7c0f945-cd14-4d4d-b0d6-a39fedd08e00",
   "metadata": {},
   "outputs": [
    {
     "name": "stdout",
     "output_type": "stream",
     "text": [
      "Best parameters: {'differentiation_method__order': 2, 'feature_library': PolynomialLibrary(), 'optimizer__alpha': 0.01, 'optimizer__threshold': 0.001}\n",
      "T' = 46.375 1 + -0.464 T\n"
     ]
    }
   ],
   "source": [
    "%%capture --no-stdout\n",
    "# Hide annoying warnings\n",
    "\n",
    "model = ps.SINDy(feature_names=\"T\", t_default=dt)\n",
    "x_dot = model.differentiate(x_train, t=t_train)\n",
    "\n",
    "param_grid = {\n",
    "    \"optimizer__threshold\": [0.001, 0.01, 0.1],\n",
    "    \"optimizer__alpha\": [0.01, 0.05, 0.1],\n",
    "    \"feature_library\": [ps.PolynomialLibrary(),\n",
    "                        ps.FourierLibrary(),\n",
    "                        ps.CustomLibrary(library_functions=custom_func, function_names=custom_func_names)],\n",
    "    \"differentiation_method__order\": [1, 2]\n",
    "}\n",
    "\n",
    "search = GridSearchCV(\n",
    "    model,\n",
    "    param_grid,\n",
    "    cv=TimeSeriesSplit(n_splits=5)\n",
    ")\n",
    "search.fit(x_train)\n",
    "\n",
    "print(\"Best parameters:\", search.best_params_)\n",
    "search.best_estimator_.print()"
   ]
  },
  {
   "cell_type": "code",
   "execution_count": 9,
   "id": "c67d6ecd-cf51-45ab-a5d5-1c96d0585a30",
   "metadata": {},
   "outputs": [
    {
     "ename": "AttributeError",
     "evalue": "'SINDy' object has no attribute 'n_control_features_'",
     "output_type": "error",
     "traceback": [
      "\u001b[0;31m---------------------------------------------------------------------------\u001b[0m",
      "\u001b[0;31mAttributeError\u001b[0m                            Traceback (most recent call last)",
      "\u001b[0;32m/tmp/ipykernel_763537/1041892591.py\u001b[0m in \u001b[0;36m<module>\u001b[0;34m\u001b[0m\n\u001b[0;32m----> 1\u001b[0;31m \u001b[0mprint\u001b[0m\u001b[0;34m(\u001b[0m\u001b[0;34mf\"Model score: {model.score(x0_test, t=dt)}\"\u001b[0m\u001b[0;34m)\u001b[0m\u001b[0;34m\u001b[0m\u001b[0;34m\u001b[0m\u001b[0m\n\u001b[0m\u001b[1;32m      2\u001b[0m \u001b[0;31m#print(f\"Model score: {model.score(Temps1_test, t=dt)}\")\u001b[0m\u001b[0;34m\u001b[0m\u001b[0;34m\u001b[0m\u001b[0m\n\u001b[1;32m      3\u001b[0m \u001b[0;31m#print(f\"Model score: {model.score(Temps2_test, t=dt)}\")\u001b[0m\u001b[0;34m\u001b[0m\u001b[0;34m\u001b[0m\u001b[0m\n",
      "\u001b[0;32m~/.python-virtual-enivronments/mrn/lib/python3.9/site-packages/pysindy/pysindy.py\u001b[0m in \u001b[0;36mscore\u001b[0;34m(self, x, t, x_dot, u, multiple_trajectories, metric, **metric_kws)\u001b[0m\n\u001b[1;32m    467\u001b[0m             \u001b[0mt\u001b[0m \u001b[0;34m=\u001b[0m \u001b[0mself\u001b[0m\u001b[0;34m.\u001b[0m\u001b[0mt_default\u001b[0m\u001b[0;34m\u001b[0m\u001b[0;34m\u001b[0m\u001b[0m\n\u001b[1;32m    468\u001b[0m         \u001b[0;32mif\u001b[0m \u001b[0mu\u001b[0m \u001b[0;32mis\u001b[0m \u001b[0;32mNone\u001b[0m \u001b[0;32mor\u001b[0m \u001b[0mself\u001b[0m\u001b[0;34m.\u001b[0m\u001b[0mn_control_features_\u001b[0m \u001b[0;34m==\u001b[0m \u001b[0;36m0\u001b[0m\u001b[0;34m:\u001b[0m\u001b[0;34m\u001b[0m\u001b[0;34m\u001b[0m\u001b[0m\n\u001b[0;32m--> 469\u001b[0;31m             \u001b[0;32mif\u001b[0m \u001b[0mself\u001b[0m\u001b[0;34m.\u001b[0m\u001b[0mn_control_features_\u001b[0m \u001b[0;34m>\u001b[0m \u001b[0;36m0\u001b[0m\u001b[0;34m:\u001b[0m\u001b[0;34m\u001b[0m\u001b[0;34m\u001b[0m\u001b[0m\n\u001b[0m\u001b[1;32m    470\u001b[0m                 raise TypeError(\n\u001b[1;32m    471\u001b[0m                     \u001b[0;34m\"Model was fit using control variables, so u is required\"\u001b[0m\u001b[0;34m\u001b[0m\u001b[0;34m\u001b[0m\u001b[0m\n",
      "\u001b[0;31mAttributeError\u001b[0m: 'SINDy' object has no attribute 'n_control_features_'"
     ]
    }
   ],
   "source": [
    "print(f\"Model score: {model.score(x0_test, t=dt)}\")\n",
    "#print(f\"Model score: {model.score(Temps1_test, t=dt)}\")\n",
    "#print(f\"Model score: {model.score(Temps2_test, t=dt)}\")"
   ]
  },
  {
   "cell_type": "code",
   "execution_count": 6,
   "id": "2b35dd4e-27ef-44bc-97f0-ea84d708b35f",
   "metadata": {},
   "outputs": [
    {
     "data": {
      "text/plain": [
       "<matplotlib.legend.Legend at 0x7f6325c1a430>"
      ]
     },
     "execution_count": 6,
     "metadata": {},
     "output_type": "execute_result"
    },
    {
     "data": {
      "image/png": "[encoded data removed]",
      "text/plain": [
       "<Figure size 432x288 with 1 Axes>"
      ]
     },
     "metadata": {
      "needs_background": "light"
     },
     "output_type": "display_data"
    }
   ],
   "source": [
    "# Calculate derivatives\n",
    "T_dot_test_predicited = model.predict(Temps0_test)\n",
    "T_dot_test_computed = model.differentiate(Temps0_test, t=dt)\n",
    "\n",
    "plt.plot(t_test, T_dot_test_computed, color=\"k\", label=\"numerical derivative\")\n",
    "plt.plot(t_test, T_dot_test_predicited, color=\"r\", linestyle= \"-.\", label=\"model prediction\")\n",
    "plt.legend()"
   ]
  },
  {
   "cell_type": "code",
   "execution_count": 7,
   "id": "32ede9c1-2e71-4a56-ae36-616ee3e3b8ef",
   "metadata": {},
   "outputs": [
    {
     "data": {
      "text/plain": [
       "[<matplotlib.lines.Line2D at 0x7f6325b308e0>]"
      ]
     },
     "execution_count": 7,
     "metadata": {},
     "output_type": "execute_result"
    },
    {
     "data": {
      "image/png": "[encoded data removed]",
      "text/plain": [
       "<Figure size 432x288 with 1 Axes>"
      ]
     },
     "metadata": {
      "needs_background": "light"
     },
     "output_type": "display_data"
    }
   ],
   "source": [
    "# Simulate forward in time\n",
    "T0_test_sim = model.simulate(T_i0, t_test)\n",
    "\n",
    "plt.plot(t_test, Temps0_test, color=\"k\", label=\"true simulation\")\n",
    "plt.plot(t_test, T0_test_sim, color=\"r\", linestyle=\"-.\", label=\"model prediction\")"
   ]
  },
  {
   "cell_type": "code",
   "execution_count": null,
   "id": "56072b63-c536-4b47-a137-b196fb0db070",
   "metadata": {},
   "outputs": [],
   "source": []
  },
  {
   "cell_type": "code",
   "execution_count": 2,
   "id": "91b6e5f9-b3c1-4b54-b9e6-066979938292",
   "metadata": {},
   "outputs": [
    {
     "ename": "NameError",
     "evalue": "name 'ps' is not defined",
     "output_type": "error",
     "traceback": [
      "\u001b[0;31m---------------------------------------------------------------------------\u001b[0m",
      "\u001b[0;31mNameError\u001b[0m                                 Traceback (most recent call last)",
      "\u001b[0;32m/tmp/ipykernel_629268/3181723723.py\u001b[0m in \u001b[0;36m<module>\u001b[0;34m\u001b[0m\n\u001b[0;32m----> 1\u001b[0;31m \u001b[0mpoly_lib\u001b[0m \u001b[0;34m=\u001b[0m \u001b[0mps\u001b[0m\u001b[0;34m.\u001b[0m\u001b[0mPolynomialLibrary\u001b[0m\u001b[0;34m(\u001b[0m\u001b[0mdegree\u001b[0m\u001b[0;34m=\u001b[0m\u001b[0;36m2\u001b[0m\u001b[0;34m)\u001b[0m\u001b[0;34m\u001b[0m\u001b[0;34m\u001b[0m\u001b[0m\n\u001b[0m\u001b[1;32m      2\u001b[0m \u001b[0mfourier_lib\u001b[0m \u001b[0;34m=\u001b[0m \u001b[0mps\u001b[0m\u001b[0;34m.\u001b[0m\u001b[0mFourierLibrary\u001b[0m\u001b[0;34m(\u001b[0m\u001b[0mn_frequencies\u001b[0m\u001b[0;34m=\u001b[0m\u001b[0;36m3\u001b[0m\u001b[0;34m)\u001b[0m\u001b[0;34m\u001b[0m\u001b[0;34m\u001b[0m\u001b[0m\n\u001b[1;32m      3\u001b[0m \u001b[0;34m\u001b[0m\u001b[0m\n\u001b[1;32m      4\u001b[0m custom_func = [\n\u001b[1;32m      5\u001b[0m     \u001b[0;32mlambda\u001b[0m \u001b[0mx\u001b[0m \u001b[0;34m:\u001b[0m \u001b[0mnp\u001b[0m\u001b[0;34m.\u001b[0m\u001b[0mexp\u001b[0m\u001b[0;34m(\u001b[0m\u001b[0mx\u001b[0m\u001b[0;34m)\u001b[0m\u001b[0;34m,\u001b[0m\u001b[0;34m\u001b[0m\u001b[0;34m\u001b[0m\u001b[0m\n",
      "\u001b[0;31mNameError\u001b[0m: name 'ps' is not defined"
     ]
    }
   ],
   "source": [
    "\n",
    "\n",
    "combined_lib = poly_lib + fourier_lib\n",
    "\n",
    "threshold=0.05\n",
    "model2 = ps.SINDy(optimizer=ps.STLSQ(threshold=threshold), feature_library=custom_lib)\n",
    "model2.fit(Temps0_train, t=dt)\n",
    "model2.print(lhs=[\"dT/dt\"])"
   ]
  },
  {
   "cell_type": "code",
   "execution_count": 9,
   "id": "6e2f0063-a4c4-4013-84a7-92ec4d39162f",
   "metadata": {},
   "outputs": [
    {
     "name": "stdout",
     "output_type": "stream",
     "text": [
      "Model score: -0.27557920205720987\n",
      "Model score: -0.2755792020572101\n",
      "Model score: -0.27557920205720987\n"
     ]
    }
   ],
   "source": [
    "print(f\"Model score: {model2.score(Temps0_test, t=dt)}\")\n",
    "print(f\"Model score: {model2.score(Temps1_test, t=dt)}\")\n",
    "print(f\"Model score: {model2.score(Temps2_test, t=dt)}\")"
   ]
  },
  {
   "cell_type": "code",
   "execution_count": null,
   "id": "64fe954e-3345-44c9-860f-7e079b14319d",
   "metadata": {},
   "outputs": [],
   "source": []
  },
  {
   "cell_type": "code",
   "execution_count": 14,
   "id": "bd3f6134-00b6-4fde-8079-7d4a54bd96b1",
   "metadata": {},
   "outputs": [
    {
     "data": {
      "text/plain": [
       "[<matplotlib.lines.Line2D at 0x7f63258f0a60>]"
      ]
     },
     "execution_count": 14,
     "metadata": {},
     "output_type": "execute_result"
    },
    {
     "data": {
      "application/vnd.jupyter.widget-view+json": {
       "model_id": "2d3421069cad47a4a448f64b1863f025",
       "version_major": 2,
       "version_minor": 0
      },
      "text/html": [
       "\n",
       "            <div style=\"display: inline-block;\">\n",
       "                <div class=\"jupyter-widgets widget-label\" style=\"text-align: center;\">\n",
       "                    Figure\n",
       "                </div>\n",
       "                <img src='data:image/png;base64,iVBORw0KGgoAAAANSUhEUgAAAoAAAAHgCAYAAAA10dzkAAAAOXRFWHRTb2Z0d2FyZQBNYXRwbG90bGliIHZlcnNpb24zLjUuMCwgaHR0cHM6Ly9tYXRwbG90bGliLm9yZy8/fFQqAAAACXBIWXMAAA9hAAAPYQGoP6dpAAA4aUlEQVR4nO3de3yU5Z3///ckk0xCIAkg5KABo6B4wgO0MUq3u5qVorVY8/D0pb9SZWW1aEWs1uwWVKpG2V2luAir66JWLQ/pFla7FUpjxbWGcBBaPCyisgaFBC3kQCCT0/X7I7nvzJBJSMDkZq779Xw85vEoM5Pxyp3pNe/5XPf1uQPGGCMAAAD4RoLXAwAAAMDAIgACAAD4DAEQAADAZwiAAAAAPkMABAAA8BkCIAAAgM8QAAEAAHyGAAgAAOAzBEAAAACfIQACAAD4DAEQAADAZwiAAAAAPkMABAAA8BkCIAAAgM8QAAEAAHyGAAgAAOAzBEAAAACfIQACAAD4DAEQAADAZwiAAAAAPkMABAAA8BkCIAAAgM8QAAEAAHyGAAgAAOAzBEAAAACfIQACAAD4DAEQAADAZwiAAAAAPkMABAAA8BkCIAAAgM8QAAEAAHyGAAgAAOAzBEAAAACfIQACAAD4DAEQAADAZwiAAAAAPkMABAAA8BkCIAAAgM8QAAEAAHyGAAgAAOAzBEAAAACfIQACAAD4DAEQAADAZwiAAAAAPkMABAAA8BkCIAAAgM8QAAEAAHyGAAgAAOAzBEAAAACfIQACAAD4DAEQAADAZwiAAAAAPkMABAAA8BkCIAAAgM8QAAEAAHyGAAgAAOAzQa8HEM/a2tq0e/duDRkyRIFAwOvhAACAXjDGqL6+Xrm5uUpI8GctjAB4DHbv3q28vDyvhwEAAI7Crl27dNJJJ3k9DE8QAI/BkCFDJLW/gdLT0z0eDQAA6I26ujrl5eW5n+N+RAA8Bs6yb3p6OgEQAIA44+fTt/y58A0AAOBjBEAAAACfIQACAAD4DAEQAADAZwiAAAAAPkMABAAA8BkCIAAAgM8QAAEAAHyGAAgAAOAzcRkA33zzTV155ZXKzc1VIBDQqlWroh43xmjevHnKyclRamqqioqKtGPHjqjn7Nu3T9OmTVN6eroyMzM1Y8YMHThwYAB/CwAAAG/EZQBsaGjQueeeq8WLF8d8fMGCBVq0aJGWLl2qiooKpaWlafLkyWpsbHSfM23aNL333ntau3atfvOb3+jNN9/UzJkzB+pXAAAA8EzAGGO8HsSxCAQCWrlypa666ipJ7dW/3Nxc3XXXXfrxj38sSaqtrVVWVpaeffZZXX/99frggw905plnauPGjZo4caIkafXq1br88sv12WefKTc3t1f/7bq6OmVkZKi2tpZrAQMAECf4/JaCXg/gq7Zz505VVVWpqKjIvS8jI0MFBQUqLy/X9ddfr/LycmVmZrrhT5KKioqUkJCgiooKffe734352uFwWOFw2P13XV1d//0iwHGipbVNq9+r0pbKGtUealZLa1u//vciL87e5TLtgcj/Gf3o4dd0D/T4WKD7xwLRz+zuscPHFjjqsXV/Mfo+jbunn+vlMT0pM1VTzz9R6SlJ3Y4JgB2sC4BVVVWSpKysrKj7s7Ky3Meqqqo0cuTIqMeDwaCGDRvmPieW0tJSPfDAA1/xiIHjV2ub0Q9ffEe/e7/a66FggCz74/9pxS2FGj445PVQAPQj6wJgfyopKdGcOXPcf9fV1SkvL8/DEQH9a+WWz/W796uVnJig67+ep+yMFCUnDsypw4efnGJkenis+581hz3a00kvkWfE9PTfOJaxRT7haMfdl59Tjz/XeU9rm/TKn3brky8b9M+/267Sq8cfPnIAFrEuAGZnZ0uSqqurlZOT495fXV2t8847z33O3r17o36upaVF+/btc38+llAopFCIb8Xwj5VbPpMk3XbJGP3o0rEejwb9reiMkfp//16h3/x5j+7/zlkKBRO9HhKAfhKXu4B7kp+fr+zsbJWVlbn31dXVqaKiQoWFhZKkwsJC1dTUaPPmze5zXn/9dbW1tamgoGDAxwwcj/Y3NKn8479Ikq4670SPR4OBUHDKcGWlh1Tf2KI/fvSl18MB0I/iMgAeOHBAW7du1datWyW1b/zYunWrKisrFQgENHv2bD344IN65ZVXtG3bNn3/+99Xbm6uu1P4jDPO0Le+9S3dfPPN2rBhg/74xz/qtttu0/XXX9/rHcCA7f63ql5tRho9fJBGDR/k9XAwABITArp4zAmSpA/21Hs8GgD9KS6XgDdt2qS/+Zu/cf/tnJc3ffp0Pfvss7rnnnvU0NCgmTNnqqamRpMmTdLq1auVkpLi/syLL76o2267TZdeeqkSEhJUXFysRYsWDfjvAhyvPv6ivTH6qSMGezwSDCTn7/3xXhrjAzaLywD413/91+qpfWEgEND8+fM1f/78bp8zbNgwvfTSS/0xPMAKn3zRIEk65YQ0j0eCgeT8vT/+ssHjkQDoT3G5BAyg/33yZXsF6BQqgL7i/L0/+eJAj1+0AcQ3AiCAmNwK4AgqgH4yevggJQSk+sYWfXEgfOQfABCXCIAAYtpb337t7BMzUz0eCQZSSlKi2wT6i3oCIGArAiCALg41taqxuf2Sb0PTkj0eDQbasEHtf/P9Dc0ejwRAfyEAAuhi38EmSVJyYoLSkmkG7DdD09qvBey8DwDYhwAIoIv9De0f/JmDkhQIBDweDQba0I4KYA0BELAWARBAF/s7PviHsfzrS86y/74GAiBgKwIggC72RVQA4T9DO/7u+wmAgLUIgAC6cD74qQD6k7MEvO8gm0AAWxEAAXSxv+OD3wkC8Bcn+HMOIGAvAiCALpxzAAmA/uRWAFkCBqxFAATQBecA+puzCYRzAAF7EQABdHEg3CJJSk8lAPrRkJSgJKm+430AwD4EQABdHGxqlSQNogm0Lzl/90Md7wMA9iEAAujiEAHQ1wYltVcAW9qMmlraPB4NgP5AAATQxcGm9qW/1I4gAH9JjQj+VAEBOxEAAXThLAGnhagA+lFyMEFJie2XAGxo4jxAwEYEQABdcA4gUpPa//YHqQACViIAAujCWfZLTWYJ2K8GdfztWQIG7EQABBClubVNTa3tJ/4PSqIC6FdO9fcgS8CAlQiAAKJELvkN4hxA33L+9iwBA3YiAAKI4iz5JSYElJzIFOFXTisYAiBgJ2Z3AFGcJb9BSYkKBAIejwZeSWUJGLAaARBAlIPuBhCWf/3MvRpIMxVAwEYEQABRnA/8tBA7gP3M2QXMEjBgJwIggCgNYecqIFQA/czdBRxmCRiwEQEQQBSuAwwpsg0MFUDARgRAAFE4BxBSxCYQzgEErEQABBDF+cBP4yogvpbGlUAAqxEAAUQ51NH2gwqgv9EGBrAbARBAlKaW9svAhYJMD36W3PH3d94PAOzCDA8givOBn0wA9DXnC4BzXWgAdmGGBxAl7ARALgPna87fP9xMAARsxAwPIIoTAENJTA9+5vz9qQACdmKGBxDF+cBPTmQTiJ85f3/OAQTsRAAEEMVZ8uMcQH9z/v5hAiBgJWZ4AFGcCiC7gP0txC5gwGpWz/D19fWaPXu2Ro8erdTUVF100UXauHGj+7gxRvPmzVNOTo5SU1NVVFSkHTt2eDhiwHtNLe2Nf6kA+hsVQMBuVs/wf/d3f6e1a9fqF7/4hbZt26bLLrtMRUVF+vzzzyVJCxYs0KJFi7R06VJVVFQoLS1NkydPVmNjo8cjB7xDGxhIkX0AuRIIYCNrZ/hDhw7pP//zP7VgwQL91V/9lcaMGaP7779fY8aM0ZIlS2SM0cKFC/XTn/5UU6dO1fjx4/X8889r9+7dWrVqldfDBzwTphE0FNEGhgogYCVrZ/iWlha1trYqJSUl6v7U1FS99dZb2rlzp6qqqlRUVOQ+lpGRoYKCApWXl8d8zXA4rLq6uqgbYBuuBAIpug2MMcbj0QD4qlk7ww8ZMkSFhYX62c9+pt27d6u1tVUvvPCCysvLtWfPHlVVVUmSsrKyon4uKyvLfexwpaWlysjIcG95eXn9/nsAA81tA0MA9LVQRxsYY6SWNgIgYBurZ/hf/OIXMsboxBNPVCgU0qJFi3TDDTcoIeHofu2SkhLV1ta6t127dn3FIwa857aBoQ+gr0V+AWAZGLCP1QHw1FNP1bp163TgwAHt2rVLGzZsUHNzs0455RRlZ2dLkqqrq6N+prq62n3scKFQSOnp6VE3wDZuGxiuBOJrkQGQVjCAfXwxw6elpSknJ0f79+/XmjVrNHXqVOXn5ys7O1tlZWXu8+rq6lRRUaHCwkIPRwt4q4lrAUNSYkJAwYSAJAIgYKOg1wPoT2vWrJExRqeffro++ugj3X333Ro3bpxuvPFGBQIBzZ49Ww8++KDGjh2r/Px8zZ07V7m5ubrqqqu8HjrgmTBtYNAhOZiglqZWAiBgIasDYG1trUpKSvTZZ59p2LBhKi4u1kMPPaSkpCRJ0j333KOGhgbNnDlTNTU1mjRpklavXt1l5zDgJ2EaQaNDcjBBB5ta3fcEAHtYHQCvvfZaXXvttd0+HggENH/+fM2fP38ARwUc32gDA0eIq4EA1mKGB+AyxtAGBi73aiCtBEDANszwAFwtbUZOz98QbWB8z9kIxDmAgH0IgABckUt9tIFBKNj+JYAlYMA+zPAAXJGVHtrAwF0CJgAC1mGGB+ByPuiDCQEldPSAg38RAAF7EQABuGgBg0idu4BpAwPYhlkegIsWMIgUogIIWItZHoCLq4AgEm1gAHsxywNw0QMQkWgDA9iLWR6Aq6W1vQlgUgJTA6SkRCqAgK2Y5QG4WtraP+gT2QEMScGOAOh8MQBgDwIgAJfzQR+kByAkJSW2fxFooQIIWIdZHoCrta1jCTiRCiAil4CpAAK2IQACcDW3sgSMTkEqgIC1CIAAXG4FkE0gUOf7oKWNCiBgG2Z5AK7mjg96KoCQ2AUM2IwACMDlLPUFOQcQYgkYsBkBEIDLWeoLUgGEIncBswQM2IYACMBFGxhEYgkYsBezPABXa0cjaCqAkGgEDdiMAAjA1UwFEBGSOr4IOFeIAWAPZnkArs42MFQAQSNowGYEQACuZq4FjAjsAgbsRQAE4GplCRgRkjgHELAWszwAVzNtYBCBXcCAvQiAAFw0gkYkdwmYTSCAdQiAAFytVAARwb0WMEvAgHUIgABctIFBJOdKICwBA/ZhlgfgohE0ItEIGrAXARCAq3MTCFMDIq8FTAUQsA2zPABXZxsYKoCgETRgMwIgAFczS8CIkMQuYMBaBEAALncXMJtAoM5TATgHELAPszwAl/NBTwUQkpQUpBE0YCsCIABXM42gESEpgU0ggK0IgABcNIJGJOdUgDbT+d4AYAcCIAAXbWAQKSmiEtxMFRCwirWzfGtrq+bOnav8/Hylpqbq1FNP1c9+9jMZ0/kt1hijefPmKScnR6mpqSoqKtKOHTs8HDXgLbcRNEvAUGcbGElqoQIIWMXaAPjoo49qyZIl+td//Vd98MEHevTRR7VgwQI98cQT7nMWLFigRYsWaenSpaqoqFBaWpomT56sxsZGD0cOeMe9FBwVQCj6VADOAwTsEvR6AP3l7bff1tSpU3XFFVdIkk4++WT98pe/1IYNGyS1V/8WLlyon/70p5o6daok6fnnn1dWVpZWrVql66+/3rOxA17pbANDBRBSYkJAgYBkDDuBAdtY+zX/oosuUllZmT788ENJ0p/+9Ce99dZbmjJliiRp586dqqqqUlFRkfszGRkZKigoUHl5eczXDIfDqquri7oBNnGqPGwCgSQFAgEl0QsQsJK1FcB7771XdXV1GjdunBITE9Xa2qqHHnpI06ZNkyRVVVVJkrKysqJ+Lisry33scKWlpXrggQf6d+CAh1poBI3DBBMDamolAAK2sXaWf/nll/Xiiy/qpZde0jvvvKPnnntO//zP/6znnnvuqF+zpKREtbW17m3Xrl1f4YgB79EIGofrvB4wS8CATaytAN59992699573XP5zjnnHH366acqLS3V9OnTlZ2dLUmqrq5WTk6O+3PV1dU677zzYr5mKBRSKBTq97EDXuFawDgc1wMG7GRtBfDgwYNKOGwnY2Jioto6JrH8/HxlZ2errKzMfbyurk4VFRUqLCwc0LECxws2geBwXA8YsJO1FcArr7xSDz30kEaNGqWzzjpLW7Zs0WOPPaabbrpJUvvJzbNnz9aDDz6osWPHKj8/X3PnzlVubq6uuuoqbwcPeKSFNjA4TFKw/csAS8CAXawNgE888YTmzp2rH/7wh9q7d69yc3P193//95o3b577nHvuuUcNDQ2aOXOmampqNGnSJK1evVopKSkejhzwjrPMl8gSMDo4Xwa4FBxgF2sD4JAhQ7Rw4UItXLiw2+cEAgHNnz9f8+fPH7iBAccxpwKYxC5gdHDOB+VScIBdmOUBuFo4BxCHcarBVAABuxAAAbhoBI3DOdVgNoEAdiEAAnDRCBqHC7ptYAiAgE2Y5QG43ABIBRAdnPdCC+cAAlYhAAKQJBljOvsAEgDRwe0DSAUQsAoBEICk6A94+gDCEeRKIICVmOUBSIo+yZ9dwHB0toGhAgjYhAAIQFJ0hYdG0HAk0ggasBIBEICk6AogjaDhSEpkEwhgI2Z5AJI6zwEMBKgAopPzXmATCGAXAiAASZ1LwOwARiQaQQN2IgACkNT5Ac8OYEQKUgEErMRMD0ASTaARW5BzAAErEQABSIq4DjAtYBCBRtCAnQiAACR1fsAnsgSMCJ2bQKgAAjZhpgcgqfMcwCQqgIjQ2QaGCiBgEwIgAEmdFR5awCBSIkvAgJUIgAAkdX7A0wQakWgEDdiJmR6ApMg2MFQA0YlG0ICdCIAAJLEEjNhoBA3YiQAIQBJLwIiNRtCAnZjpAUjqrPBQAUQk2sAAdiIAApAktXZ8wNMGBpHcJWAqgIBVCIAAJEnNVAARg1sBZBcwYBUCIABJnUt8nAOISDSCBuzETA9AEucAIjYaQQN2IgACkNT5AR/kWsCI4FYA2QQCWIWZHoCkyDYwVADRqfMcQCqAgE0IgAAkdZ7kzxIwIgVZAgasRAAEIElqpRE0YuhcAiYAAjZhpgcgiTYwiI02MICdCIAAJNEIGrE5FeFWKoCAVQiAACRRAURszvuhmQogYBUCIABJnW0+aAODSJwDCNiJmR6ApMg+gFQA0cltBE0bGMAqBEAAkjo/4IPsAkYE5wsBjaABuzDTA5AU2QaGCiA6BTveD2wCAexibQA8+eSTFQgEutxmzZolSWpsbNSsWbM0fPhwDR48WMXFxaqurvZ41IB3mmkEjRicc0KbWQIGrGJtANy4caP27Nnj3tauXStJuuaaayRJd955p1599VWtWLFC69at0+7du3X11Vd7OWTAUzSCRixJVAABKwW9HkB/GTFiRNS/H3nkEZ166qn65je/qdraWj3zzDN66aWXdMkll0iSli1bpjPOOEPr16/XhRde6MWQAU/RBgax0AYGsJMvvuo3NTXphRde0E033aRAIKDNmzerublZRUVF7nPGjRunUaNGqby8vNvXCYfDqquri7oBtmh128AQANGJRtCAnXwRAFetWqWamhr94Ac/kCRVVVUpOTlZmZmZUc/LyspSVVVVt69TWlqqjIwM95aXl9ePowYGVjNtYBCDeym4NiNjCIGALXwRAJ955hlNmTJFubm5x/Q6JSUlqq2tdW+7du36ikYIeM+51ittYBApKaIxOM2gAXtYew6g49NPP9Xvf/97/frXv3bvy87OVlNTk2pqaqKqgNXV1crOzu72tUKhkEKhUH8OF/BMKxVAxJAY0Raotc0oKdHDwQD4ylj/VX/ZsmUaOXKkrrjiCve+CRMmKCkpSWVlZe5927dvV2VlpQoLC70YJuC5ZhpBI4bILwRsBAHsYXUFsK2tTcuWLdP06dMVDHb+qhkZGZoxY4bmzJmjYcOGKT09XbfffrsKCwvZAQzfohE0YokMgGwEAexhdQD8/e9/r8rKSt10001dHnv88ceVkJCg4uJihcNhTZ48WU8++aQHowSODzSCRiyJURVAAiBgC6sD4GWXXdbtrrWUlBQtXrxYixcvHuBRAcenznMAWQJGp0AgoKTEgJpbDRVAwCLM9AAk0QYG3aMZNGAfAiAASRGNoDkHEIdxWsFQAQTsQQAEIElqaWUJGLE5rWBa2qgAArZgpgcgqXN5jwogDud8KWATCGAPAiAASTSCRvec9wRLwIA9CIAAJNEIGt1zqsJsAgHswUwPQBIVQHSPCiBgHwIgAEmdJ/hzDiAO51SFOQcQsAcBEIAkqYVG0OgGFUDAPsz0ACRFtoGhAoho7jmAtIEBrEEABCCJJWB0z6kKt7IEDFiDAAhAEo2g0T2nKkwjaMAezPQAZIzpPAeQCiAO09kGhgogYAsCIICok/s5BxCHC3ItYMA6BEAAbvVPohE0uqIRNGAfZnoA0QGQCiAOQxsYwD4EQABqiajsEABxOGcJuJkACFiDAAggqgKYSADEYZwl4FaWgAFrEAABRDWBDgQIgIjW2QaGCiBgCwIgAJpAo0fOxiACIGAPAiAAmkCjR24FkCVgwBrM9gCoAKJHNIIG7EMABNB5FRA2gCAGGkED9iEAAmAJGD1yvhg0cy1gwBrM9gC4DjB6lOi2gaECCNiCAAjAPbmfJWDEkpTALmDANgRAABEVQKYEdOVUhltYAgaswWwPIKoRNHC4zjYwVAABWxAAAdAGBj2iETRgHwIgALeyk8guYMRAI2jAPsz2ANwKYBJLwIihsw0MFUDAFgRAAO7SXiIBEDEkdiwB0wYGsAcBEIC7BJzELmDE4FSG2QUM2IPZHgCNoNGjRDcAUgEEbEEABEAjaPTIqQzTBgawBwEQQGcFkF3AiIFG0IB9mO0BuBXARJaAEQONoAH7WB0AP//8c33ve9/T8OHDlZqaqnPOOUebNm1yHzfGaN68ecrJyVFqaqqKioq0Y8cOD0cMeMOpANIGBrEEuRYwYB1rA+D+/ft18cUXKykpSa+99pref/99/cu//IuGDh3qPmfBggVatGiRli5dqoqKCqWlpWny5MlqbGz0cOTAwOtsA2PtlIBjkMgSMGCdoNcD6C+PPvqo8vLytGzZMve+/Px8938bY7Rw4UL99Kc/1dSpUyVJzz//vLKysrRq1Spdf/31Az5mwCvOEnASS8CIISmBTSCAbaz9uv/KK69o4sSJuuaaazRy5Eidf/75evrpp93Hd+7cqaqqKhUVFbn3ZWRkqKCgQOXl5TFfMxwOq66uLuoG2IBG0OgJbWAA+1gbAD/55BMtWbJEY8eO1Zo1a3TrrbfqRz/6kZ577jlJUlVVlSQpKysr6ueysrLcxw5XWlqqjIwM95aXl9e/vwQwQGgEjZ44lWGuBQzYw9rZvq2tTRdccIEefvhhnX/++Zo5c6ZuvvlmLV269Khfs6SkRLW1te5t165dX+GIAe9QAURPqAAC9rE2AObk5OjMM8+Muu+MM85QZWWlJCk7O1uSVF1dHfWc6upq97HDhUIhpaenR90AG7iNoDkHEDHQCBqwj7UB8OKLL9b27duj7vvwww81evRoSe0bQrKzs1VWVuY+XldXp4qKChUWFg7oWAGvdbaBsXZKwDHobARNAARsYe0u4DvvvFMXXXSRHn74YV177bXasGGDnnrqKT311FOSpEAgoNmzZ+vBBx/U2LFjlZ+fr7lz5yo3N1dXXXWVt4MHBpjT3oMlYMTiNoKmDQxgDWsD4Ne+9jWtXLlSJSUlmj9/vvLz87Vw4UJNmzbNfc4999yjhoYGzZw5UzU1NZo0aZJWr16tlJQUD0cODLxWpwLIEjBicBpBt7IEDFjD2gAoSd/+9rf17W9/u9vHA4GA5s+fr/nz5w/gqIDjT3MrjaDRPacy3EwFELAGsz0AGkGjR2wCAexDAARAGxj0KLINjDGEQMAGBEAAbmUnSCNoxBBZGW5lJzBgBWZ7AG4FMEgFEDFEVoZpBQPYgQAIwG3vQQBELJGXCCQAAnYgAAKIaAPDlICuIr8Y0AoGsAOzPQA1t9IIGt2LfF/QCgawAwEQAI2g0aNAIOBWAdkEAtiBAAiARtA4IrcZdCsVQMAGzPYAOjeBUAFEN2gGDdiFAAigsw8g5wCiG5HNoAHEPwIggIg+gEwJiM05P7SFTSCAFZjtAbgn9rMEjO64FUCWgAErEAABuCf2swSM7jjVYZaAATsQAAHQCBpH5CwBt7IEDFiB2R5ARBsYKoCIrbMNDBVAwAYEQABuVYdG0OiOUx2mETRgBwIgAPfEfhpBozs0ggbswmwPwL2+K5tA0J0gjaABqxAAAdAGBkcUpBE0YBUCIOBzxhj3xH4aQaM7nQGQJWDABsz2gM9FFnRYAkZ3gm4bGCqAgA0IgIDPRZ7UzxIwuuNUh2kDA9iBAAj4XGRFh0bQ6A6NoAG7MNsDPhe5q5NG0OgOjaABuxAAAZ+LPKmfcwDRnSCNoAGrEAABn3PaeiQmBBQIEAARW5BG0IBVCICAzzkf6FT/0BNnEwh9AAE7EAABn3ObQBMA0QPn/cESMGAHAiDgc24TaHYAowdOiyCWgAE7MOMDPkcFEL1BBRCwCwEQ8Dn3HECaQKMHToWYNjCAHQiAgM91VgCZDtC9II2gAasw4wM+5/QBpAKIngRpBA1YhQAI+JxzJRDOAURPnAox5wACdiAAAj7XwhIwesH5gtDCEjBgBWZ8wOfYBILeYBMIYBdrA+D999+vQCAQdRs3bpz7eGNjo2bNmqXhw4dr8ODBKi4uVnV1tYcjBrxBGxj0Bm1gALtYGwAl6ayzztKePXvc21tvveU+duedd+rVV1/VihUrtG7dOu3evVtXX321h6MFvOFUAJNoBI0e0AgasEvQ6wH0p2AwqOzs7C7319bW6plnntFLL72kSy65RJK0bNkynXHGGVq/fr0uvPDCgR4q4JnOK4FQAUT3qAACdrH6K/+OHTuUm5urU045RdOmTVNlZaUkafPmzWpublZRUZH73HHjxmnUqFEqLy/v9vXC4bDq6uqibkC8c07qpwKInnAOIGAXa2f8goICPfvss1q9erWWLFminTt36hvf+Ibq6+tVVVWl5ORkZWZmRv1MVlaWqqqqun3N0tJSZWRkuLe8vLx+/i2A/tfc0v6BTgBETzorgCwBAzawdgl4ypQp7v8eP368CgoKNHr0aL388stKTU09qtcsKSnRnDlz3H/X1dURAhH3mp1G0GwCQQ+cUwRaWAIGrOCbr/yZmZk67bTT9NFHHyk7O1tNTU2qqamJek51dXXMcwYdoVBI6enpUTcg3jmNoKkAoidOn8gWloABK/hmxj9w4IA+/vhj5eTkaMKECUpKSlJZWZn7+Pbt21VZWanCwkIPRwkMvM5dwFQA0T0aQQN2sXYJ+Mc//rGuvPJKjR49Wrt379Z9992nxMRE3XDDDcrIyNCMGTM0Z84cDRs2TOnp6br99ttVWFjIDmD4TucuYN98H8RRYBMIYBdrA+Bnn32mG264QX/5y180YsQITZo0SevXr9eIESMkSY8//rgSEhJUXFyscDisyZMn68knn/R41MDAa6ECiF6gDQxgF2sD4PLly3t8PCUlRYsXL9bixYsHaETA8YlG0OgNGkEDdmHGB3yu2b0UHNMBupdIBRCwCjM+4HMsAaM3nAoxbWAAOxAAAZ9rpg0MeoFdwIBdmPEBn3PO6eJawOgJfQABuxAAAZ+jETR6gyuBAHZhxgd8jkbQ6A13CZhdwIAVCICAz7ELGL3hNIJmCRiwAzM+4HPsAkZvdG4CIQACNiAAAj5HI2j0Ruc5gCwBAzZgxgd8jmsBozcSqQACVmHGB3zOqeiwBIyeJHWcI2oMVwMBbEAABHyuuYU2MDiyyD6RLAMD8Y8ZH/C55o4Pc+ckfyCWyF3i7AQG4h8BEPA5GkGjN6IrgARAIN4x4wM+xy5g9EZkhZhm0ED8Y8YHfI5rAaM3AoEAO4EBixAAAZ9zPszZBYwjIQAC9iAAAj7X3MISMHoniesBA9Zgxgd8jmsBo7eoAAL2YMYHfM6p5iQHWQJGz5wqMW1ggPhHAAR8zr0UHBVAHEFnBZAlYCDeMeMDPscuYPQWFUDAHgRAwOec87mS2QSCI3C+JHAOIBD/mPEBH2trM2p1NoEQAHEEiewCBqzBjA/4WHPEuVwsAeNIkjrOE6UCCMQ/AiDgY5HncrEEjCOhDQxgD2Z8wMeaI5byIq/1CsTiXC3GaR4OIH4RAAEfa+r4IE8IcA4gjiw52P4eaeYcQCDuMeMDPhbuCIChYKLHI0E8cN4nYSqAQNwjAAI+5nyQO5UdoCfO+6SJAAjEPWZ9wMeaCIDoA2ejUJglYCDuMesDPhZuaZXEDmD0jvNFIdzc6vFIABwrZn3Ax5wKYCiJqQBHFnKWgKkAAnGPWR/wMeeDnAogeoNzAAF7MOsDPuZWADkHEL1AAATswawP+BhtYNAXtIEB7EEABHyMXcDoCyqAgD18Mes/8sgjCgQCmj17tntfY2OjZs2apeHDh2vw4MEqLi5WdXW1d4MEPEAARF+ECICANayf9Tdu3Kh/+7d/0/jx46Puv/POO/Xqq69qxYoVWrdunXbv3q2rr77ao1EC3qANDPrC7QPYQhsYIN5ZPesfOHBA06ZN09NPP62hQ4e699fW1uqZZ57RY489pksuuUQTJkzQsmXL9Pbbb2v9+vUejhgYWGHawKAPnPcJbWCA+Gf1rD9r1ixdccUVKioqirp/8+bNam5ujrp/3LhxGjVqlMrLy7t9vXA4rLq6uqgbEM9oA4O+cN4nLAED8S/o9QD6y/Lly/XOO+9o48aNXR6rqqpScnKyMjMzo+7PyspSVVVVt69ZWlqqBx544KseKuAZzgFEX7hXAiEAAnHPyll/165duuOOO/Tiiy8qJSXlK3vdkpIS1dbWurddu3Z9Za8NeCFMAEQfEAABe1g562/evFl79+7VBRdcoGAwqGAwqHXr1mnRokUKBoPKyspSU1OTampqon6uurpa2dnZ3b5uKBRSenp61A2IZ030AUQfOO8TloCB+GflEvCll16qbdu2Rd134403aty4cfrJT36ivLw8JSUlqaysTMXFxZKk7du3q7KyUoWFhV4MGfAES8DoC/oAAvawMgAOGTJEZ599dtR9aWlpGj58uHv/jBkzNGfOHA0bNkzp6em6/fbbVVhYqAsvvNCLIQOecNp5cCk49AZtYAB7WBkAe+Pxxx9XQkKCiouLFQ6HNXnyZD355JNeDwsYUFwLGH1BGxjAHr4JgG+88UbUv1NSUrR48WItXrzYmwEBxwG3DQwBEL1AGxjAHsz6gI+55wDSBxC9wKXgAHsw6wM+RhsY9AVtYAB7MOsDPhamDQz6gDYwgD0IgICP0QYGfeG8T1rajFrbjMejAXAsmPUBH2MJGH0R+T6hCgjEN2Z9wMfoA4i+iHyf0AsQiG/M+oCPHWpq/xAflMw5gDiypMQEJSUGJEkHmwiAQDwjAAI+dpAAiD5KTWp/rxAAgfhGAAR8zKkApib7pic8jtGgjvfKIQIgENcIgIBPNbe2uVcCSaMCiF4aFHIqgC0ejwTAsSAAAj4VuYSXSgBELzmnC7AEDMQ3AiDgU84SXmJCgEvBodcGJbUvARMAgfjGrA/4lLOENygpUYFAwOPRIF6kJrMEDNiAAAj4lLsDOMTyL3ovreP9cqiZCiAQzwiAgE91toBhBzB6L7VjCbghTAAE4hkBEPApZwnP6esG9IazCeQQS8BAXCMAAj7FVUBwNNgFDNiBAAj41EG3CTQBEL3nbgLhHEAgrhEAAZ9yloDTOAcQfeC8Xw6GWQIG4hkBEPAprgOMo5HKEjBgBQIg4FMsAeNouJtAWAIG4hoBEPAp5wOcCiD6gk0ggB0IgIBPNXScw5XKOYDoA6dvZAPnAAJxjQAI+FRdY/sHeHoKARC9N6Tj/VLfSAAE4hkBEPCp/Q1NkqRhackejwTxxHm/7Ot4/wCITwRAwKf2H2z/AB9KAEQfOO+XQ82tamQjCBC3CICATzkVwKGDCIDovSGhoIIJAUmdXyIAxB8CIOBT+zo+vIcRANEHgUBAmYNYBgbiHQEQ8KFDTa1qbG6TJA1NS/J4NIg3wzreM/sbmj0eCYCjRQAEfMhZugsmBDQ4xC5g9I1TAWQJGIhfBEDAh5ylu6FpyQoEAh6PBvFmGAEQiHsEQMCH9nP+H47BUFrBAHGPAAj4UGcFkPP/0HfOOYAEQCB+EQABH/ps/yFJUk5GqscjQTzK7njfOO8jAPGHAAj40MdfHJAknXJCmscjQTw6teN980nH+whA/CEAAj70yRcNkqRTRw72eCSIR877Ztf+Q2pqafN4NACOBgEQ8BljjFu5OWUEFUD03cghIaUlJ6q1zahyX4PXwwFwFKwNgEuWLNH48eOVnp6u9PR0FRYW6rXXXnMfb2xs1KxZszR8+HANHjxYxcXFqq6u9nDEwMD44kBYdY0tCgSkk4cTANF3gUDArQLuqGYZGIhH1gbAk046SY888og2b96sTZs26ZJLLtHUqVP13nvvSZLuvPNOvfrqq1qxYoXWrVun3bt36+qrr/Z41ED/+/37eyVJZ+akKyUp0ePRIF6dl5cpSfr9B3u9HQiAo2JtALzyyit1+eWXa+zYsTrttNP00EMPafDgwVq/fr1qa2v1zDPP6LHHHtMll1yiCRMmaNmyZXr77be1fv16r4cO9JvWNqOXN+2SJF15bq7Ho0E8c94/a96r0n7awQBxxxfXgGptbdWKFSvU0NCgwsJCbd68Wc3NzSoqKnKfM27cOI0aNUrl5eW68MILY75OOBxWOBx2/11XV9cv41397h699m5V1H3GxH5urLtNN0+OeW+MO03sZ8YcQ/fj6vpAzJ+P/ePdvG4fxhXzeb0/Ll/F8Y758/1wvPvy83vrw9r5ZYOSgwn6DgEQx2DCqKE6ZUSaPvmiQZctfFPjT8zQoFBQvb2uTG8vQMN1avCts7P1rbNzvB6GdawOgNu2bVNhYaEaGxs1ePBgrVy5Umeeeaa2bt2q5ORkZWZmRj0/KytLVVVVsV9MUmlpqR544IF+HrX0v1X1+q+tu/v9vwN/Sg4m6OfXnafcTHoA4uglJAT01P83QTc8XaEv6sMq+1+WgtE/Tj4hjQDYD6wOgKeffrq2bt2q2tpa/epXv9L06dO1bt26o369kpISzZkzx/13XV2d8vLyvoqhRvmr00ZoSErXKzR090041jfp7p/b9ZG+/HysJ/dtXL3773f3ut0/t3e/RJ+OS7fP7eV93bxCXy6929tx9fa4JCZIE08ephMGh3o/CKAbY0YO0Zt3/43e/vhLfVEfVkNT61f6+n2prsNe548a6vUQrGR1AExOTtaYMWMkSRMmTNDGjRv185//XNddd52amppUU1MTVQWsrq5WdnZ2t68XCoUUCvX/B+cFo4bqAt7wAOJAanKiLj0jy+thAOgjazeBxNLW1qZwOKwJEyYoKSlJZWVl7mPbt29XZWWlCgsLPRwhAABA/7O2AlhSUqIpU6Zo1KhRqq+v10svvaQ33nhDa9asUUZGhmbMmKE5c+Zo2LBhSk9P1+23367CwsJuN4AAAADYwtoAuHfvXn3/+9/Xnj17lJGRofHjx2vNmjX627/9W0nS448/roSEBBUXFyscDmvy5Ml68sknPR41AABA/wsYzrI9anV1dcrIyFBtba3S09O9Hg4AAOgFPr99dg4gAAAACIAAAAC+QwAEAADwGQIgAACAzxAAAQAAfIYACAAA4DMEQAAAAJ8hAAIAAPgMARAAAMBnrL0U3EBwLqJSV1fn8UgAAEBvOZ/bfr4YGgHwGNTX10uS8vLyPB4JAADoq/r6emVkZHg9DE9wLeBj0NbWpt27d2vIkCEKBAJf6WvX1dUpLy9Pu3bt8u11CvuC49V3HLO+45j1Hces7zhmfdfXY2aMUX19vXJzc5WQ4M+z4agAHoOEhASddNJJ/frfSE9PZwLoA45X33HM+o5j1nccs77jmPVdX46ZXyt/Dn/GXgAAAB8jAAIAAPgMAfA4FQqFdN999ykUCnk9lLjA8eo7jlnfccz6jmPWdxyzvuOY9R2bQAAAAHyGCiAAAIDPEAABAAB8hgAIAADgMwRAAAAAnyEAHocWL16sk08+WSkpKSooKNCGDRu8HpJn3nzzTV155ZXKzc1VIBDQqlWroh43xmjevHnKyclRamqqioqKtGPHjqjn7Nu3T9OmTVN6eroyMzM1Y8YMHThwYAB/i4FTWlqqr33taxoyZIhGjhypq666Stu3b496TmNjo2bNmqXhw4dr8ODBKi4uVnV1ddRzKisrdcUVV2jQoEEaOXKk7r77brW0tAzkrzJglixZovHjx7sNZAsLC/Xaa6+5j3O8juyRRx5RIBDQ7Nmz3fs4btHuv/9+BQKBqNu4cePcxzlesX3++ef63ve+p+HDhys1NVXnnHOONm3a5D7OZ8AxMDiuLF++3CQnJ5v/+I//MO+99565+eabTWZmpqmurvZ6aJ747W9/a/7xH//R/PrXvzaSzMqVK6Mef+SRR0xGRoZZtWqV+dOf/mS+853vmPz8fHPo0CH3Od/61rfMueeea9avX2/+53/+x4wZM8bccMMNA/ybDIzJkyebZcuWmXfffdds3brVXH755WbUqFHmwIED7nNuueUWk5eXZ8rKysymTZvMhRdeaC666CL38ZaWFnP22WeboqIis2XLFvPb3/7WnHDCCaakpMSLX6nfvfLKK+a///u/zYcffmi2b99u/uEf/sEkJSWZd9991xjD8TqSDRs2mJNPPtmMHz/e3HHHHe79HLdo9913nznrrLPMnj173NsXX3zhPs7x6mrfvn1m9OjR5gc/+IGpqKgwn3zyiVmzZo356KOP3OfwGXD0CIDHma9//etm1qxZ7r9bW1tNbm6uKS0t9XBUx4fDA2BbW5vJzs42//RP/+TeV1NTY0KhkPnlL39pjDHm/fffN5LMxo0b3ee89tprJhAImM8//3zAxu6VvXv3Gklm3bp1xpj245OUlGRWrFjhPueDDz4wkkx5ebkxpj10JyQkmKqqKvc5S5YsMenp6SYcDg/sL+CRoUOHmn//93/neB1BfX29GTt2rFm7dq355je/6QZAjltX9913nzn33HNjPsbxiu0nP/mJmTRpUreP8xlwbFgCPo40NTVp8+bNKioqcu9LSEhQUVGRysvLPRzZ8Wnnzp2qqqqKOl4ZGRkqKChwj1d5ebkyMzM1ceJE9zlFRUVKSEhQRUXFgI95oNXW1kqShg0bJknavHmzmpubo47ZuHHjNGrUqKhjds455ygrK8t9zuTJk1VXV6f33ntvAEc/8FpbW7V8+XI1NDSosLCQ43UEs2bN0hVXXBF1fCTeZ93ZsWOHcnNzdcopp2jatGmqrKyUxPHqziuvvKKJEyfqmmuu0ciRI3X++efr6aefdh/nM+DYEACPI19++aVaW1uj/g8uSVlZWaqqqvJoVMcv55j0dLyqqqo0cuTIqMeDwaCGDRtm/TFta2vT7NmzdfHFF+vss8+W1H48kpOTlZmZGfXcw49ZrGPqPGajbdu2afDgwQqFQrrlllu0cuVKnXnmmRyvHixfvlzvvPOOSktLuzzGceuqoKBAzz77rFavXq0lS5Zo586d+sY3vqH6+nqOVzc++eQTLVmyRGPHjtWaNWt066236kc/+pGee+45SXwGHKug1wMA0D9mzZqld999V2+99ZbXQznunX766dq6datqa2v1q1/9StOnT9e6deu8HtZxa9euXbrjjju0du1apaSkeD2cuDBlyhT3f48fP14FBQUaPXq0Xn75ZaWmpno4suNXW1ubJk6cqIcffliSdP755+vdd9/V0qVLNX36dI9HF/+oAB5HTjjhBCUmJnbZ+VVdXa3s7GyPRnX8co5JT8crOztbe/fujXq8paVF+/bts/qY3nbbbfrNb36jP/zhDzrppJPc+7Ozs9XU1KSampqo5x9+zGIdU+cxGyUnJ2vMmDGaMGGCSktLde655+rnP/85x6sbmzdv1t69e3XBBRcoGAwqGAxq3bp1WrRokYLBoLKysjhuR5CZmanTTjtNH330Ee+zbuTk5OjMM8+Muu+MM85wl875DDg2BMDjSHJysiZMmKCysjL3vra2NpWVlamwsNDDkR2f8vPzlZ2dHXW86urqVFFR4R6vwsJC1dTUaPPmze5zXn/9dbW1tamgoGDAx9zfjDG67bbbtHLlSr3++uvKz8+PenzChAlKSkqKOmbbt29XZWVl1DHbtm1b1KS5du1apaend5mMbdXW1qZwOMzx6sall16qbdu2aevWre5t4sSJmjZtmvu/OW49O3DggD7++GPl5OTwPuvGxRdf3KWN1YcffqjRo0dL4jPgmHm9CwXRli9fbkKhkHn22WfN+++/b2bOnGkyMzOjdn75SX19vdmyZYvZsmWLkWQee+wxs2XLFvPpp58aY9pbAGRmZpr/+q//Mn/+85/N1KlTY7YAOP/8801FRYV56623zNixY61tAXDrrbeajIwM88Ybb0S1mzh48KD7nFtuucWMGjXKvP7662bTpk2msLDQFBYWuo877SYuu+wys3XrVrN69WozYsQIa9tN3HvvvWbdunVm586d5s9//rO59957TSAQML/73e+MMRyv3orcBWwMx+1wd911l3njjTfMzp07zR//+EdTVFRkTjjhBLN3715jDMcrlg0bNphgMGgeeughs2PHDvPiiy+aQYMGmRdeeMF9Dp8BR48AeBx64oknzKhRo0xycrL5+te/btavX+/1kDzzhz/8wUjqcps+fboxpr0NwNy5c01WVpYJhULm0ksvNdu3b496jb/85S/mhhtuMIMHDzbp6enmxhtvNPX19R78Nv0v1rGSZJYtW+Y+59ChQ+aHP/yhGTp0qBk0aJD57ne/a/bs2RP1Ov/3f/9npkyZYlJTU80JJ5xg7rrrLtPc3DzAv83AuOmmm8zo0aNNcnKyGTFihLn00kvd8GcMx6u3Dg+AHLdo1113ncnJyTHJycnmxBNPNNddd11UPzuOV2yvvvqqOfvss00oFDLjxo0zTz31VNTjfAYcvYAxxnhTewQAAIAXOAcQAADAZwiAAAAAPkMABAAA8BkCIAAAgM8QAAEAAHyGAAgAAOAzBEAAAACfIQACAAD4DAEQAADAZwiAAAAAPkMABAAA8BkCIAAAgM8QAAEAAHyGAAgAAOAzBEAAAACfIQACAAD4DAEQAADAZwiAAAAAPkMABAAA8BkCIAAAgM8QAAEAAHyGAAgAAOAzBEAAAACfIQACAAD4DAEQAADAZwiAAAAAPkMABAAA8BkCIAAAgM8QAAEAAHyGAAgAAOAzBEAAAACf+f8BQPqSCvXw0qQAAAAASUVORK5CYII=' width=640.0/>\n",
       "            </div>\n",
       "        "
      ],
      "text/plain": [
       "Canvas(toolbar=Toolbar(toolitems=[('Home', 'Reset original view', 'home', 'home'), ('Back', 'Back to previous …"
      ]
     },
     "metadata": {},
     "output_type": "display_data"
    }
   ],
   "source": [
    "%matplotlib widget\n",
    "\n",
    "import numpy as np\n",
    "import matplotlib.pyplot as plt\n",
    "from matplotlib.animation import FuncAnimation\n",
    "\n",
    "from IPython.display import HTML\n",
    "\n",
    "fig, ax = plt.subplots()\n",
    "\n",
    "L = 1\n",
    "\n",
    "nx = 587\n",
    "dx = L / (nx - 1)\n",
    "nt = 20    #the number of timesteps we want to calculate\n",
    "t_stop = 500\n",
    "nu = 0.3   #the value of viscosity/thermal conductivity\n",
    "sigma = .2 #sigma is a parameter, we'll learn more about it later\n",
    "dt = sigma * dx**2 / nu #dt is defined using sigma ... more later!\n",
    "\n",
    "t = np.arange(0, t_stop, dt)\n",
    "\n",
    "u = 30*np.ones(nx)      # Setup initial conditions\n",
    "u[int(0.35*L / dx):int(0.65*L / dx + 1)] = 100  # Set initial conditions\n",
    "\n",
    "# def q(T, t):\n",
    "#     dTdt = np.zeros_like(T)\n",
    "#     dTdt[0] = T[1]\n",
    "    \n",
    "#     delta = T[2] - T[0]\n",
    "    \n",
    "un = np.ones(nx) #our placeholder array, un, to advance the solution in time\n",
    "\n",
    "for n in range(nt):  #iterate through time\n",
    "    un = u.copy() ##copy the existing values of u into un\n",
    "    for i in range(1, nx - 1):\n",
    "        u[i] = un[i] + nu * dt / dx**2 * (un[i+1] - 2 * un[i] + un[i-1])\n",
    "        #plt.plot(np.linspace(0, 2, nx), u);\n",
    "        \n",
    "plt.plot(u)"
   ]
  },
  {
   "cell_type": "code",
   "execution_count": 11,
   "id": "24fdd481-90ff-4fc9-b936-a3ed02498d6d",
   "metadata": {},
   "outputs": [
    {
     "data": {
      "text/plain": [
       "[]"
      ]
     },
     "execution_count": 11,
     "metadata": {},
     "output_type": "execute_result"
    }
   ],
   "source": [
    "plt.plot()"
   ]
  }
 ],
 "metadata": {
  "kernelspec": {
   "display_name": "Python 3 (ipykernel)",
   "language": "python",
   "name": "python3"
  },
  "language_info": {
   "codemirror_mode": {
    "name": "ipython",
    "version": 3
   },
   "file_extension": ".py",
   "mimetype": "text/x-python",
   "name": "python",
   "nbconvert_exporter": "python",
   "pygments_lexer": "ipython3",
   "version": "3.9.7"
  }
 },
 "nbformat": 4,
 "nbformat_minor": 5
}
